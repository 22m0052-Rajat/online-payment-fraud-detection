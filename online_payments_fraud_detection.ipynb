{
  "cells": [
    {
      "cell_type": "code",
      "execution_count": 2,
      "id": "ddb96977",
      "metadata": {
        "execution": {
          "iopub.execute_input": "2023-08-08T06:46:56.356726Z",
          "iopub.status.busy": "2023-08-08T06:46:56.356254Z",
          "iopub.status.idle": "2023-08-08T06:46:56.362041Z",
          "shell.execute_reply": "2023-08-08T06:46:56.360818Z"
        },
        "papermill": {
          "duration": 0.021448,
          "end_time": "2023-08-08T06:46:56.364622",
          "exception": false,
          "start_time": "2023-08-08T06:46:56.343174",
          "status": "completed"
        },
        "tags": [],
        "id": "ddb96977"
      },
      "outputs": [],
      "source": [
        "# importing required libraries\n",
        "\n",
        "import pandas as pd\n",
        "import numpy as np\n",
        "import matplotlib.pyplot as plt"
      ]
    },
    {
      "cell_type": "code",
      "execution_count": null,
      "id": "b79e40fb",
      "metadata": {
        "execution": {
          "iopub.execute_input": "2023-08-08T06:46:56.386389Z",
          "iopub.status.busy": "2023-08-08T06:46:56.385951Z",
          "iopub.status.idle": "2023-08-08T06:47:21.770930Z",
          "shell.execute_reply": "2023-08-08T06:47:21.769698Z"
        },
        "papermill": {
          "duration": 25.39929,
          "end_time": "2023-08-08T06:47:21.773924",
          "exception": false,
          "start_time": "2023-08-08T06:46:56.374634",
          "status": "completed"
        },
        "tags": [],
        "id": "b79e40fb"
      },
      "outputs": [],
      "source": [
        "# loading the dataset into pandas dataframe\n",
        "df = pd.read_csv(\"/content/drive/MyDrive/IITB Project/Online Payment Fraud Detection/PS_20174392719_1491204439457_log.csv\")\n",
        "df"
      ]
    },
    {
      "cell_type": "code",
      "execution_count": 4,
      "id": "90fac8a0",
      "metadata": {
        "execution": {
          "iopub.execute_input": "2023-08-08T06:47:21.800257Z",
          "iopub.status.busy": "2023-08-08T06:47:21.799389Z",
          "iopub.status.idle": "2023-08-08T06:47:21.939544Z",
          "shell.execute_reply": "2023-08-08T06:47:21.938073Z"
        },
        "papermill": {
          "duration": 0.157008,
          "end_time": "2023-08-08T06:47:21.942517",
          "exception": false,
          "start_time": "2023-08-08T06:47:21.785509",
          "status": "completed"
        },
        "tags": [],
        "id": "90fac8a0"
      },
      "outputs": [],
      "source": [
        "# Retain the 6 features and the target variable\n",
        "df = df[['amount','oldbalanceOrg','newbalanceOrig','oldbalanceDest','newbalanceDest',\"isFraud\",\"isFlaggedFraud\"]]"
      ]
    },
    {
      "cell_type": "code",
      "execution_count": null,
      "id": "2608221e",
      "metadata": {
        "execution": {
          "iopub.execute_input": "2023-08-08T06:47:21.965869Z",
          "iopub.status.busy": "2023-08-08T06:47:21.965428Z",
          "iopub.status.idle": "2023-08-08T06:47:21.987547Z",
          "shell.execute_reply": "2023-08-08T06:47:21.985725Z"
        },
        "papermill": {
          "duration": 0.037412,
          "end_time": "2023-08-08T06:47:21.991262",
          "exception": false,
          "start_time": "2023-08-08T06:47:21.953850",
          "status": "completed"
        },
        "tags": [],
        "id": "2608221e"
      },
      "outputs": [],
      "source": [
        "df.info()"
      ]
    },
    {
      "cell_type": "code",
      "execution_count": null,
      "id": "b5e22955",
      "metadata": {
        "execution": {
          "iopub.execute_input": "2023-08-08T06:47:22.016283Z",
          "iopub.status.busy": "2023-08-08T06:47:22.015873Z",
          "iopub.status.idle": "2023-08-08T06:47:22.097294Z",
          "shell.execute_reply": "2023-08-08T06:47:22.095326Z"
        },
        "papermill": {
          "duration": 0.097187,
          "end_time": "2023-08-08T06:47:22.100638",
          "exception": false,
          "start_time": "2023-08-08T06:47:22.003451",
          "status": "completed"
        },
        "tags": [],
        "id": "b5e22955"
      },
      "outputs": [],
      "source": [
        "df.isnull().sum()"
      ]
    },
    {
      "cell_type": "code",
      "execution_count": null,
      "id": "fe66ddfd",
      "metadata": {
        "execution": {
          "iopub.execute_input": "2023-08-08T06:47:22.123851Z",
          "iopub.status.busy": "2023-08-08T06:47:22.123407Z",
          "iopub.status.idle": "2023-08-08T06:47:22.193343Z",
          "shell.execute_reply": "2023-08-08T06:47:22.191670Z"
        },
        "papermill": {
          "duration": 0.08497,
          "end_time": "2023-08-08T06:47:22.196439",
          "exception": false,
          "start_time": "2023-08-08T06:47:22.111469",
          "status": "completed"
        },
        "tags": [],
        "id": "fe66ddfd"
      },
      "outputs": [],
      "source": [
        "df['isFraud'].value_counts()"
      ]
    },
    {
      "cell_type": "code",
      "execution_count": 8,
      "id": "a03088d9",
      "metadata": {
        "execution": {
          "iopub.execute_input": "2023-08-08T06:47:22.221865Z",
          "iopub.status.busy": "2023-08-08T06:47:22.221461Z",
          "iopub.status.idle": "2023-08-08T06:47:22.336463Z",
          "shell.execute_reply": "2023-08-08T06:47:22.335240Z"
        },
        "papermill": {
          "duration": 0.13054,
          "end_time": "2023-08-08T06:47:22.339229",
          "exception": false,
          "start_time": "2023-08-08T06:47:22.208689",
          "status": "completed"
        },
        "tags": [],
        "id": "a03088d9"
      },
      "outputs": [],
      "source": [
        "# Load the features to a variable X\n",
        "# X is created by simply dropping the diagnosis column and retaining all others\n",
        "X = df.drop('isFraud',axis=1)\n",
        "\n",
        "\n",
        "#Load the target variable to y\n",
        "y = df['isFraud']"
      ]
    },
    {
      "cell_type": "code",
      "execution_count": 9,
      "id": "027af1b3",
      "metadata": {
        "execution": {
          "iopub.execute_input": "2023-08-08T06:47:22.363450Z",
          "iopub.status.busy": "2023-08-08T06:47:22.363006Z",
          "iopub.status.idle": "2023-08-08T06:47:25.649099Z",
          "shell.execute_reply": "2023-08-08T06:47:25.647451Z"
        },
        "papermill": {
          "duration": 3.302133,
          "end_time": "2023-08-08T06:47:25.652152",
          "exception": false,
          "start_time": "2023-08-08T06:47:22.350019",
          "status": "completed"
        },
        "tags": [],
        "id": "027af1b3"
      },
      "outputs": [],
      "source": [
        "# Do the train/test split\n",
        "\n",
        "from sklearn.model_selection import train_test_split\n",
        "X_train,X_test,y_train,y_test = train_test_split(X,y,test_size=0.30,random_state=1)"
      ]
    },
    {
      "cell_type": "code",
      "execution_count": null,
      "id": "01686dc8",
      "metadata": {
        "execution": {
          "iopub.execute_input": "2023-08-08T06:47:25.677920Z",
          "iopub.status.busy": "2023-08-08T06:47:25.676873Z",
          "iopub.status.idle": "2023-08-08T06:48:51.421507Z",
          "shell.execute_reply": "2023-08-08T06:48:51.419608Z"
        },
        "papermill": {
          "duration": 85.771608,
          "end_time": "2023-08-08T06:48:51.434864",
          "exception": false,
          "start_time": "2023-08-08T06:47:25.663256",
          "status": "completed"
        },
        "tags": [],
        "id": "01686dc8"
      },
      "outputs": [],
      "source": [
        "# Train the Logistic Regression Model\n",
        "from sklearn.linear_model import LogisticRegression\n",
        "classifier = LogisticRegression (solver='liblinear')\n",
        "classifier.fit(X_train,y_train)"
      ]
    },
    {
      "cell_type": "code",
      "execution_count": 11,
      "id": "a2e0b14b",
      "metadata": {
        "execution": {
          "iopub.execute_input": "2023-08-08T06:48:51.459538Z",
          "iopub.status.busy": "2023-08-08T06:48:51.459069Z",
          "iopub.status.idle": "2023-08-08T06:48:51.561685Z",
          "shell.execute_reply": "2023-08-08T06:48:51.560038Z"
        },
        "papermill": {
          "duration": 0.119895,
          "end_time": "2023-08-08T06:48:51.566249",
          "exception": false,
          "start_time": "2023-08-08T06:48:51.446354",
          "status": "completed"
        },
        "tags": [],
        "id": "a2e0b14b"
      },
      "outputs": [],
      "source": [
        "# Prediction with the test set\n",
        "y_predict = classifier.predict(X_test)"
      ]
    },
    {
      "cell_type": "code",
      "execution_count": null,
      "id": "ebab9115",
      "metadata": {
        "execution": {
          "iopub.execute_input": "2023-08-08T06:48:51.617582Z",
          "iopub.status.busy": "2023-08-08T06:48:51.616852Z",
          "iopub.status.idle": "2023-08-08T06:48:51.643134Z",
          "shell.execute_reply": "2023-08-08T06:48:51.642163Z"
        },
        "papermill": {
          "duration": 0.055774,
          "end_time": "2023-08-08T06:48:51.645776",
          "exception": false,
          "start_time": "2023-08-08T06:48:51.590002",
          "status": "completed"
        },
        "tags": [],
        "id": "ebab9115"
      },
      "outputs": [],
      "source": [
        "Results = pd.DataFrame({'A':y_test,'P':y_predict})\n",
        "Results.head(10)"
      ]
    },
    {
      "cell_type": "code",
      "execution_count": null,
      "id": "f9af9951",
      "metadata": {
        "execution": {
          "iopub.execute_input": "2023-08-08T06:48:51.673552Z",
          "iopub.status.busy": "2023-08-08T06:48:51.672492Z",
          "iopub.status.idle": "2023-08-08T06:48:51.862434Z",
          "shell.execute_reply": "2023-08-08T06:48:51.861157Z"
        },
        "papermill": {
          "duration": 0.207402,
          "end_time": "2023-08-08T06:48:51.865435",
          "exception": false,
          "start_time": "2023-08-08T06:48:51.658033",
          "status": "completed"
        },
        "tags": [],
        "id": "f9af9951"
      },
      "outputs": [],
      "source": [
        "# Compute Model Accuracy.\n",
        "\n",
        "from sklearn.metrics import accuracy_score\n",
        "print(accuracy_score(y_test,y_predict))"
      ]
    },
    {
      "cell_type": "code",
      "execution_count": null,
      "id": "6afba8d5",
      "metadata": {
        "execution": {
          "iopub.execute_input": "2023-08-08T06:48:51.890581Z",
          "iopub.status.busy": "2023-08-08T06:48:51.890160Z",
          "iopub.status.idle": "2023-08-08T06:48:52.579579Z",
          "shell.execute_reply": "2023-08-08T06:48:52.578069Z"
        },
        "papermill": {
          "duration": 0.705241,
          "end_time": "2023-08-08T06:48:52.582215",
          "exception": false,
          "start_time": "2023-08-08T06:48:51.876974",
          "status": "completed"
        },
        "tags": [],
        "id": "6afba8d5"
      },
      "outputs": [],
      "source": [
        "# Model accuracy on training set.\n",
        "\n",
        "# Get the predictions from the model for the training set.\n",
        "\n",
        "y_train_pred = classifier.predict(X_train)\n",
        "\n",
        "print(accuracy_score(y_train,y_train_pred))"
      ]
    },
    {
      "cell_type": "code",
      "execution_count": null,
      "id": "b4ddd30a",
      "metadata": {
        "execution": {
          "iopub.execute_input": "2023-08-08T06:48:52.607380Z",
          "iopub.status.busy": "2023-08-08T06:48:52.606929Z",
          "iopub.status.idle": "2023-08-08T06:48:52.784929Z",
          "shell.execute_reply": "2023-08-08T06:48:52.783571Z"
        },
        "papermill": {
          "duration": 0.193726,
          "end_time": "2023-08-08T06:48:52.787650",
          "exception": false,
          "start_time": "2023-08-08T06:48:52.593924",
          "status": "completed"
        },
        "tags": [],
        "id": "b4ddd30a"
      },
      "outputs": [],
      "source": [
        "# Getting probability predictions from the model.\n",
        "y_test_proba = classifier.predict_proba(X_test)\n",
        "\n",
        "print(y_test_proba.shape)"
      ]
    },
    {
      "cell_type": "code",
      "execution_count": null,
      "id": "8656e845",
      "metadata": {
        "execution": {
          "iopub.execute_input": "2023-08-08T06:48:52.813279Z",
          "iopub.status.busy": "2023-08-08T06:48:52.812586Z",
          "iopub.status.idle": "2023-08-08T06:48:52.819884Z",
          "shell.execute_reply": "2023-08-08T06:48:52.818689Z"
        },
        "papermill": {
          "duration": 0.023079,
          "end_time": "2023-08-08T06:48:52.822572",
          "exception": false,
          "start_time": "2023-08-08T06:48:52.799493",
          "status": "completed"
        },
        "tags": [],
        "id": "8656e845"
      },
      "outputs": [],
      "source": [
        "y_test_proba[0:5,:]"
      ]
    },
    {
      "cell_type": "code",
      "execution_count": null,
      "id": "20b60151",
      "metadata": {
        "execution": {
          "iopub.execute_input": "2023-08-08T06:48:52.847943Z",
          "iopub.status.busy": "2023-08-08T06:48:52.847544Z",
          "iopub.status.idle": "2023-08-08T06:48:52.853626Z",
          "shell.execute_reply": "2023-08-08T06:48:52.852834Z"
        },
        "papermill": {
          "duration": 0.021972,
          "end_time": "2023-08-08T06:48:52.856336",
          "exception": false,
          "start_time": "2023-08-08T06:48:52.834364",
          "status": "completed"
        },
        "tags": [],
        "id": "20b60151"
      },
      "outputs": [],
      "source": [
        "import numpy as np\n",
        "\n",
        "# Given array in scientific notation\n",
        "array_in_scientific = y_test_proba[0:5,:]\n",
        "\n",
        "# Convert to normal number format\n",
        "array_in_normal = np.vectorize(lambda x: format(x, '.16f'))(array_in_scientific)\n",
        "\n",
        "print(array_in_normal)\n"
      ]
    },
    {
      "cell_type": "code",
      "execution_count": null,
      "id": "101529de",
      "metadata": {
        "execution": {
          "iopub.execute_input": "2023-08-08T06:48:52.882278Z",
          "iopub.status.busy": "2023-08-08T06:48:52.881278Z",
          "iopub.status.idle": "2023-08-08T06:48:55.368430Z",
          "shell.execute_reply": "2023-08-08T06:48:55.367102Z"
        },
        "papermill": {
          "duration": 2.504129,
          "end_time": "2023-08-08T06:48:55.372348",
          "exception": false,
          "start_time": "2023-08-08T06:48:52.868219",
          "status": "completed"
        },
        "tags": [],
        "id": "101529de"
      },
      "outputs": [],
      "source": [
        "T = y_test_proba[:,1]\n",
        "array_in_one = T\n",
        "\n",
        "# Convert to normal number format\n",
        "S = np.vectorize(lambda x: format(x, '.16f'))(array_in_one)\n",
        "\n",
        "print(S)\n"
      ]
    },
    {
      "cell_type": "code",
      "execution_count": null,
      "id": "46e9be1c",
      "metadata": {
        "execution": {
          "iopub.execute_input": "2023-08-08T06:48:55.400545Z",
          "iopub.status.busy": "2023-08-08T06:48:55.399440Z",
          "iopub.status.idle": "2023-08-08T06:48:55.706814Z",
          "shell.execute_reply": "2023-08-08T06:48:55.705455Z"
        },
        "papermill": {
          "duration": 0.325169,
          "end_time": "2023-08-08T06:48:55.710284",
          "exception": false,
          "start_time": "2023-08-08T06:48:55.385115",
          "status": "completed"
        },
        "tags": [],
        "id": "46e9be1c"
      },
      "outputs": [],
      "source": [
        "Results = pd.DataFrame({'Actual':y_test,'Predictions':y_predict,'Prob(Class = 1)':S})\n",
        "\n",
        "Results.head(5)"
      ]
    },
    {
      "cell_type": "code",
      "execution_count": null,
      "id": "d18bba48",
      "metadata": {
        "execution": {
          "iopub.execute_input": "2023-08-08T06:48:55.739845Z",
          "iopub.status.busy": "2023-08-08T06:48:55.739448Z",
          "iopub.status.idle": "2023-08-08T06:48:56.093966Z",
          "shell.execute_reply": "2023-08-08T06:48:56.092962Z"
        },
        "papermill": {
          "duration": 0.372665,
          "end_time": "2023-08-08T06:48:56.096577",
          "exception": false,
          "start_time": "2023-08-08T06:48:55.723912",
          "status": "completed"
        },
        "tags": [],
        "id": "d18bba48"
      },
      "outputs": [],
      "source": [
        "#Generate the Confusion Matrix\n",
        "\n",
        "from sklearn.metrics import confusion_matrix\n",
        "\n",
        "cm = confusion_matrix(y_test,y_predict)\n",
        "print(cm)"
      ]
    },
    {
      "cell_type": "code",
      "execution_count": null,
      "id": "f254998e",
      "metadata": {
        "execution": {
          "iopub.execute_input": "2023-08-08T06:48:56.123339Z",
          "iopub.status.busy": "2023-08-08T06:48:56.122881Z",
          "iopub.status.idle": "2023-08-08T06:48:57.104660Z",
          "shell.execute_reply": "2023-08-08T06:48:57.103183Z"
        },
        "papermill": {
          "duration": 0.998341,
          "end_time": "2023-08-08T06:48:57.107522",
          "exception": false,
          "start_time": "2023-08-08T06:48:56.109181",
          "status": "completed"
        },
        "tags": [],
        "id": "f254998e"
      },
      "outputs": [],
      "source": [
        "import seaborn as sn\n",
        "plt.figure(figsize = (10,7))\n",
        "sn.heatmap(cm, annot=True)\n",
        "plt.title('Confusion Matrix - Test Data')\n",
        "plt.xlabel('Predicted Label')\n",
        "plt.ylabel('True Label')"
      ]
    },
    {
      "cell_type": "code",
      "execution_count": null,
      "id": "3d77d0d5",
      "metadata": {
        "execution": {
          "iopub.execute_input": "2023-08-08T06:48:57.138577Z",
          "iopub.status.busy": "2023-08-08T06:48:57.138035Z",
          "iopub.status.idle": "2023-08-08T06:48:57.350657Z",
          "shell.execute_reply": "2023-08-08T06:48:57.349158Z"
        },
        "papermill": {
          "duration": 0.235368,
          "end_time": "2023-08-08T06:48:57.356189",
          "exception": false,
          "start_time": "2023-08-08T06:48:57.120821",
          "status": "completed"
        },
        "tags": [],
        "id": "3d77d0d5"
      },
      "outputs": [],
      "source": [
        "plt.clf()\n",
        "plt.imshow(cm,interpolation='nearest',cmap=plt.cm.prism)\n",
        "classNames = ['0','1']\n",
        "plt.title('Confusion Matrix-Test Data')\n",
        "plt.ylabel('True label')\n",
        "plt.xlabel('Predicted label')\n",
        "tick_marks = np.arange(2)\n",
        "plt.xticks(tick_marks,classNames,rotation=45)\n",
        "plt.yticks(tick_marks,classNames)\n",
        "s = [['TN','FP'],['FN','TP']]\n",
        "for i in range(2):\n",
        "    for j in range(2):\n",
        "        plt.text(j,i,str(s[i][j])+\"= \"+str(cm[i][j]))\n",
        "plt.show()"
      ]
    },
    {
      "cell_type": "code",
      "execution_count": null,
      "id": "74e3a146",
      "metadata": {
        "execution": {
          "iopub.execute_input": "2023-08-08T06:48:57.391900Z",
          "iopub.status.busy": "2023-08-08T06:48:57.389954Z",
          "iopub.status.idle": "2023-08-08T06:49:00.800411Z",
          "shell.execute_reply": "2023-08-08T06:49:00.798410Z"
        },
        "papermill": {
          "duration": 3.429018,
          "end_time": "2023-08-08T06:49:00.803707",
          "exception": false,
          "start_time": "2023-08-08T06:48:57.374689",
          "status": "completed"
        },
        "tags": [],
        "id": "74e3a146"
      },
      "outputs": [],
      "source": [
        "#Calculate common error metrics for a 2-class classifier\n",
        "\n",
        "from sklearn.metrics import classification_report\n",
        "print(classification_report(y_test,y_predict))"
      ]
    },
    {
      "cell_type": "code",
      "execution_count": 24,
      "id": "6a583682",
      "metadata": {
        "execution": {
          "iopub.execute_input": "2023-08-08T06:49:00.836431Z",
          "iopub.status.busy": "2023-08-08T06:49:00.835975Z",
          "iopub.status.idle": "2023-08-08T06:49:00.842241Z",
          "shell.execute_reply": "2023-08-08T06:49:00.840959Z"
        },
        "papermill": {
          "duration": 0.02636,
          "end_time": "2023-08-08T06:49:00.844934",
          "exception": false,
          "start_time": "2023-08-08T06:49:00.818574",
          "status": "completed"
        },
        "tags": [],
        "id": "6a583682"
      },
      "outputs": [],
      "source": [
        "# Calculate metrics values individually\n",
        "\n",
        "# Assigning Variables for convinience\n",
        "\n",
        "TN = cm[0][0]\n",
        "FP = cm[0][1]\n",
        "FN = cm[1][0]\n",
        "TP = cm[1][1]"
      ]
    },
    {
      "cell_type": "code",
      "execution_count": null,
      "id": "4e871d85",
      "metadata": {
        "execution": {
          "iopub.execute_input": "2023-08-08T06:49:00.877228Z",
          "iopub.status.busy": "2023-08-08T06:49:00.876482Z",
          "iopub.status.idle": "2023-08-08T06:49:00.882442Z",
          "shell.execute_reply": "2023-08-08T06:49:00.881395Z"
        },
        "papermill": {
          "duration": 0.025579,
          "end_time": "2023-08-08T06:49:00.885484",
          "exception": false,
          "start_time": "2023-08-08T06:49:00.859905",
          "status": "completed"
        },
        "tags": [],
        "id": "4e871d85"
      },
      "outputs": [],
      "source": [
        "recall = TP / (TP + FN )\n",
        "print(\"Recall= \",recall)"
      ]
    },
    {
      "cell_type": "code",
      "execution_count": null,
      "id": "1bf702a4",
      "metadata": {
        "execution": {
          "iopub.execute_input": "2023-08-08T06:49:00.919399Z",
          "iopub.status.busy": "2023-08-08T06:49:00.917935Z",
          "iopub.status.idle": "2023-08-08T06:49:00.926800Z",
          "shell.execute_reply": "2023-08-08T06:49:00.924975Z"
        },
        "papermill": {
          "duration": 0.029713,
          "end_time": "2023-08-08T06:49:00.930606",
          "exception": false,
          "start_time": "2023-08-08T06:49:00.900893",
          "status": "completed"
        },
        "tags": [],
        "id": "1bf702a4"
      },
      "outputs": [],
      "source": [
        "precision = TP / (TP + FP)\n",
        "print(\"Precision=\",precision)"
      ]
    },
    {
      "cell_type": "code",
      "execution_count": null,
      "id": "1d575cee",
      "metadata": {
        "execution": {
          "iopub.execute_input": "2023-08-08T06:49:00.963238Z",
          "iopub.status.busy": "2023-08-08T06:49:00.962793Z",
          "iopub.status.idle": "2023-08-08T06:49:00.970261Z",
          "shell.execute_reply": "2023-08-08T06:49:00.968281Z"
        },
        "papermill": {
          "duration": 0.026858,
          "end_time": "2023-08-08T06:49:00.972923",
          "exception": false,
          "start_time": "2023-08-08T06:49:00.946065",
          "status": "completed"
        },
        "tags": [],
        "id": "1d575cee"
      },
      "outputs": [],
      "source": [
        "specificity = TN /  (TN + FP)\n",
        "print(\"Specificity = \", specificity)"
      ]
    },
    {
      "cell_type": "code",
      "execution_count": null,
      "id": "4f3b2e76",
      "metadata": {
        "execution": {
          "iopub.execute_input": "2023-08-08T06:49:01.005439Z",
          "iopub.status.busy": "2023-08-08T06:49:01.004627Z",
          "iopub.status.idle": "2023-08-08T06:49:01.012437Z",
          "shell.execute_reply": "2023-08-08T06:49:01.010418Z"
        },
        "papermill": {
          "duration": 0.027958,
          "end_time": "2023-08-08T06:49:01.015701",
          "exception": false,
          "start_time": "2023-08-08T06:49:00.987743",
          "status": "completed"
        },
        "tags": [],
        "id": "4f3b2e76"
      },
      "outputs": [],
      "source": [
        "accuracy = ( TP + TN ) / ( TP + TN + FP + FN)\n",
        "print(\"Accuracy =\" , accuracy)"
      ]
    },
    {
      "cell_type": "code",
      "execution_count": null,
      "id": "fce2ac4f",
      "metadata": {
        "papermill": {
          "duration": 0.015029,
          "end_time": "2023-08-08T06:49:01.048412",
          "exception": false,
          "start_time": "2023-08-08T06:49:01.033383",
          "status": "completed"
        },
        "tags": [],
        "id": "fce2ac4f"
      },
      "outputs": [],
      "source": []
    }
  ],
  "metadata": {
    "kernelspec": {
      "display_name": "Python 3",
      "language": "python",
      "name": "python3"
    },
    "language_info": {
      "codemirror_mode": {
        "name": "ipython",
        "version": 3
      },
      "file_extension": ".py",
      "mimetype": "text/x-python",
      "name": "python",
      "nbconvert_exporter": "python",
      "pygments_lexer": "ipython3",
      "version": "3.10.12"
    },
    "papermill": {
      "default_parameters": {},
      "duration": 140.19661,
      "end_time": "2023-08-08T06:49:02.792376",
      "environment_variables": {},
      "exception": null,
      "input_path": "__notebook__.ipynb",
      "output_path": "__notebook__.ipynb",
      "parameters": {},
      "start_time": "2023-08-08T06:46:42.595766",
      "version": "2.4.0"
    },
    "colab": {
      "provenance": []
    }
  },
  "nbformat": 4,
  "nbformat_minor": 5
}